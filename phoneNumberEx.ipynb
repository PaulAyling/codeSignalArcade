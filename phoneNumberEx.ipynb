{
 "cells": [
  {
   "cell_type": "code",
   "execution_count": null,
   "metadata": {},
   "outputs": [],
   "source": [
    "# TASK\n",
    "#find if a list of names will fit into a phone number (using number pad)\n",
    "# eg names: 'car' 'deaf'\n",
    "input_number: 457329057438295\n",
    "\n",
    "# 1. INPUTS\n",
    "input_phone_number = '057329057438295'\n",
    "input_names = ['car','deaf']\n",
    "max_input_name_length = 4\n",
    "# 2. CREATE NAMES / NUMBER LOOKUP\n",
    "names_number_converter = [['a','b','c'],['d','e','f'],[],[],[],[],['r'],[],[],[],]\n",
    "# 3. CONVERT NAMES LIST TO NUMBERS LIST\n",
    "names_as_numbers = [[0,0,6],[1,1,0,1]]\n",
    "# 4. ORDER NAMES_AS NUMBERS\n",
    "names_as_numbers_ord = [[0,0,6],[1,1,0,1]]  # order of initial digit and list length\n",
    "names_numbers_dictionary = {1:[[2,3],[5,4]], 2:[[3,4,2],[2,4,3],[1,1,2]]}\n",
    "# 5. CREATE MATCHED_NAME\n",
    "# ONCE a list in names_as_numbers is matched with a sequence string then that name is put into matched_name list\n",
    "match_names= []\n",
    "\n",
    "def print_loop(input_phone_number,names_as_numbers_ord,phn,char):\n",
    "    current_phone_digit = int(phone_number[phn])\n",
    "    current_name = names_as_numbers_ord[phn]\n",
    "    current_char = names_as_numbers_ord[phn][char]\n",
    "    print('phnPos:',phn,'val',current_phone_number)\n",
    "    print('names:Pos:', names,'Val',current_name)\n",
    "    print('charVal:',current_char)\n",
    "    return (current_char,current_phone_digit)\n",
    "\n",
    "# Print starting point\n",
    "print('input: Phone number:', input_phone_number)\n",
    "print('input: names:', names)\n",
    "print('input: names_as_numbers:', names_as_numbers)\n",
    "# A. Loop the input number\n",
    "for phn in range(len(max(current_name))):\n",
    "    #B. Loop the names list\n",
    "    for names in range(len(names_as_numbers_ord)):\n",
    "        \n",
    "        #C Loop characters \n",
    "        for char in range(len(names_as_numbers_ord[names])):\n",
    "            (current_char,current_phone_digit) = print_loop(phone_number,names_as_numbers_ord,phn,char)\n",
    "            if current_char == current_phone_digit:\n",
    "                print('MATCH!!!')\n",
    "                print('---------------------------')\n",
    "            else:\n",
    "                print('Char does not match phone')\n",
    "                print('---------------------------')\n",
    "                break\n",
    "\n",
    "\n",
    "\n",
    "  \n",
    "\n",
    "\n"
   ]
  }
 ],
 "metadata": {
  "kernelspec": {
   "display_name": "Python 3",
   "language": "python",
   "name": "python3"
  },
  "language_info": {
   "codemirror_mode": {
    "name": "ipython",
    "version": 3
   },
   "file_extension": ".py",
   "mimetype": "text/x-python",
   "name": "python",
   "nbconvert_exporter": "python",
   "pygments_lexer": "ipython3",
   "version": "3.8.5"
  }
 },
 "nbformat": 4,
 "nbformat_minor": 4
}
